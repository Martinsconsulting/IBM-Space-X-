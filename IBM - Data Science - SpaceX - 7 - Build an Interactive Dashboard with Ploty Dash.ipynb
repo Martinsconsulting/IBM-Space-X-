{
 "cells": [
  {
   "cell_type": "markdown",
   "id": "f5bfb108",
   "metadata": {},
   "source": [
    "# Build a Dashboard Application with Plotly Dash"
   ]
  },
  {
   "cell_type": "markdown",
   "id": "daad1b15",
   "metadata": {},
   "source": [
    "- In this lab, you will be building a Plotly Dash application for users to perform interactive visual analytics on SpaceX launch data in\n",
    "real-time.\n",
    "\n",
    "- This dashboard application contains input components such as a dropdown list and a range slider to interact with a pie chart and a scatter point chart."
   ]
  },
  {
   "cell_type": "markdown",
   "id": "7508193e",
   "metadata": {},
   "source": [
    "- After visual analysis using the dashboard, you should be able to obtain some insights to answer the following five questions:\n",
    "\n",
    "- Which site has the largest successful launches?\n",
    "- Which site has the highest launch success rate?\n",
    "- Which payload range(s) has the highest launch success rate?\n",
    "- Which payload range(s) has the lowest launch success rate?\n",
    "- Which F9 Booster version (v1.0, v1.1, FT, B4, B5, etc.) has the highest\n",
    "launch success rate?"
   ]
  },
  {
   "cell_type": "code",
   "execution_count": 1,
   "id": "ffb72d1a",
   "metadata": {},
   "outputs": [
    {
     "name": "stdout",
     "output_type": "stream",
     "text": [
      "Defaulting to user installation because normal site-packages is not writeable\n",
      "Requirement already satisfied: pandas in c:\\programdata\\anaconda3\\lib\\site-packages (1.5.3)\n",
      "Requirement already satisfied: python-dateutil>=2.8.1 in c:\\programdata\\anaconda3\\lib\\site-packages (from pandas) (2.8.2)\n",
      "Requirement already satisfied: pytz>=2020.1 in c:\\programdata\\anaconda3\\lib\\site-packages (from pandas) (2022.7)\n",
      "Requirement already satisfied: numpy>=1.21.0 in c:\\users\\steph\\appdata\\roaming\\python\\python310\\site-packages (from pandas) (1.25.2)\n",
      "Requirement already satisfied: six>=1.5 in c:\\programdata\\anaconda3\\lib\\site-packages (from python-dateutil>=2.8.1->pandas) (1.16.0)\n",
      "Defaulting to user installation because normal site-packages is not writeable\n",
      "Requirement already satisfied: dash in c:\\users\\steph\\appdata\\roaming\\python\\python310\\site-packages (2.12.1)\n",
      "Requirement already satisfied: dash-core-components==2.0.0 in c:\\users\\steph\\appdata\\roaming\\python\\python310\\site-packages (from dash) (2.0.0)\n",
      "Requirement already satisfied: dash-html-components==2.0.0 in c:\\users\\steph\\appdata\\roaming\\python\\python310\\site-packages (from dash) (2.0.0)\n",
      "Requirement already satisfied: ansi2html in c:\\users\\steph\\appdata\\roaming\\python\\python310\\site-packages (from dash) (1.8.0)\n",
      "Requirement already satisfied: retrying in c:\\users\\steph\\appdata\\roaming\\python\\python310\\site-packages (from dash) (1.3.4)\n",
      "Requirement already satisfied: requests in c:\\programdata\\anaconda3\\lib\\site-packages (from dash) (2.28.1)\n",
      "Requirement already satisfied: typing-extensions>=4.1.1 in c:\\programdata\\anaconda3\\lib\\site-packages (from dash) (4.4.0)\n",
      "Requirement already satisfied: dash-table==5.0.0 in c:\\users\\steph\\appdata\\roaming\\python\\python310\\site-packages (from dash) (5.0.0)\n",
      "Requirement already satisfied: Werkzeug<2.3.0 in c:\\programdata\\anaconda3\\lib\\site-packages (from dash) (2.2.2)\n",
      "Requirement already satisfied: Flask<2.3.0,>=1.0.4 in c:\\programdata\\anaconda3\\lib\\site-packages (from dash) (2.2.2)\n",
      "Requirement already satisfied: nest-asyncio in c:\\programdata\\anaconda3\\lib\\site-packages (from dash) (1.5.6)\n",
      "Requirement already satisfied: plotly>=5.0.0 in c:\\programdata\\anaconda3\\lib\\site-packages (from dash) (5.9.0)\n",
      "Requirement already satisfied: setuptools in c:\\programdata\\anaconda3\\lib\\site-packages (from dash) (65.6.3)\n",
      "Requirement already satisfied: Jinja2>=3.0 in c:\\programdata\\anaconda3\\lib\\site-packages (from Flask<2.3.0,>=1.0.4->dash) (3.1.2)\n",
      "Requirement already satisfied: itsdangerous>=2.0 in c:\\programdata\\anaconda3\\lib\\site-packages (from Flask<2.3.0,>=1.0.4->dash) (2.0.1)\n",
      "Requirement already satisfied: click>=8.0 in c:\\programdata\\anaconda3\\lib\\site-packages (from Flask<2.3.0,>=1.0.4->dash) (8.0.4)\n",
      "Requirement already satisfied: tenacity>=6.2.0 in c:\\programdata\\anaconda3\\lib\\site-packages (from plotly>=5.0.0->dash) (8.0.1)\n",
      "Requirement already satisfied: MarkupSafe>=2.1.1 in c:\\programdata\\anaconda3\\lib\\site-packages (from Werkzeug<2.3.0->dash) (2.1.1)\n",
      "Requirement already satisfied: certifi>=2017.4.17 in c:\\programdata\\anaconda3\\lib\\site-packages (from requests->dash) (2022.12.7)\n",
      "Requirement already satisfied: charset-normalizer<3,>=2 in c:\\programdata\\anaconda3\\lib\\site-packages (from requests->dash) (2.0.4)\n",
      "Requirement already satisfied: urllib3<1.27,>=1.21.1 in c:\\programdata\\anaconda3\\lib\\site-packages (from requests->dash) (1.26.14)\n",
      "Requirement already satisfied: idna<4,>=2.5 in c:\\programdata\\anaconda3\\lib\\site-packages (from requests->dash) (3.4)\n",
      "Requirement already satisfied: six>=1.7.0 in c:\\programdata\\anaconda3\\lib\\site-packages (from retrying->dash) (1.16.0)\n",
      "Requirement already satisfied: colorama in c:\\programdata\\anaconda3\\lib\\site-packages (from click>=8.0->Flask<2.3.0,>=1.0.4->dash) (0.4.6)\n",
      "Defaulting to user installation because normal site-packages is not writeable\n",
      "Requirement already satisfied: plotly in c:\\programdata\\anaconda3\\lib\\site-packages (5.9.0)\n",
      "Requirement already satisfied: tenacity>=6.2.0 in c:\\programdata\\anaconda3\\lib\\site-packages (from plotly) (8.0.1)\n",
      "*** ALL PACKAGES INSTALLED ***\n"
     ]
    }
   ],
   "source": [
    "# install packages\n",
    "!pip install pandas\n",
    "!pip install dash\n",
    "!pip install plotly\n",
    "print('*** all packages installed ***'.upper())"
   ]
  },
  {
   "cell_type": "code",
   "execution_count": 2,
   "id": "73280eae",
   "metadata": {},
   "outputs": [
    {
     "name": "stderr",
     "output_type": "stream",
     "text": [
      "C:\\Users\\steph\\AppData\\Local\\Temp\\ipykernel_1644\\272837467.py:4: UserWarning: \n",
      "The dash_html_components package is deprecated. Please replace\n",
      "`import dash_html_components as html` with `from dash import html`\n",
      "  import dash_html_components as html\n",
      "C:\\Users\\steph\\AppData\\Local\\Temp\\ipykernel_1644\\272837467.py:5: UserWarning: \n",
      "The dash_core_components package is deprecated. Please replace\n",
      "`import dash_core_components as dcc` with `from dash import dcc`\n",
      "  import dash_core_components as dcc\n"
     ]
    },
    {
     "data": {
      "text/html": [
       "\n",
       "        <iframe\n",
       "            width=\"100%\"\n",
       "            height=\"650\"\n",
       "            src=\"http://127.0.0.1:8050/\"\n",
       "            frameborder=\"0\"\n",
       "            allowfullscreen\n",
       "            \n",
       "        ></iframe>\n",
       "        "
      ],
      "text/plain": [
       "<IPython.lib.display.IFrame at 0x2875470dc60>"
      ]
     },
     "metadata": {},
     "output_type": "display_data"
    }
   ],
   "source": [
    "# Import required libraries\n",
    "import pandas as pd\n",
    "import dash\n",
    "import dash_html_components as html\n",
    "import dash_core_components as dcc\n",
    "from dash.dependencies import Input, Output\n",
    "import plotly.express as px\n",
    "\n",
    "# Read the airline data into pandas dataframe\n",
    "spacex_df = pd.read_csv(\"spacex_launch_dash.csv\")\n",
    "max_payload = spacex_df['Payload Mass (kg)'].max()\n",
    "min_payload = spacex_df['Payload Mass (kg)'].min()\n",
    "\n",
    "# Create a dash application\n",
    "app = dash.Dash(__name__)\n",
    "\n",
    "locations= []\n",
    "locations.append({'label': 'All Sites', 'value':'All Sites'})\n",
    "for site in spacex_df['Launch Site'].unique().tolist():\n",
    "    locations.append({'label': site, 'value': site})\n",
    "\n",
    "# Create an app layout\n",
    "app.layout = html.Div(children=[html.H1('SpaceX Launch Records Dashboard',\n",
    "                                        style={'textAlign': 'center', 'color': '#503D36',\n",
    "                                               'font-size': 40}),\n",
    "                                # Add a dropdown list to enable Launch Site selection\n",
    "                                # The default select value is for ALL sites\n",
    "                                dcc.Dropdown(id='site_dropdown',options=locations, placeholder='Select a Launch Site here', searchable = True , value = 'All Sites'),\n",
    "                                html.Br(),\n",
    "\n",
    "                                # Add a pie chart to show the total successful launches count for all sites\n",
    "                                # If a specific launch site was selected, show the Success vs. Failed counts for the site\n",
    "                                html.Div(dcc.Graph(id='success-pie-chart')),\n",
    "                                html.Br(),\n",
    "\n",
    "                                html.P(\"Payload range (Kg):\"),\n",
    "                                # Add a slider to select payload range\n",
    "                                dcc.RangeSlider(\n",
    "                                                id='payload_slider',\n",
    "                                                min=0, \n",
    "                                                max=10000,\n",
    "                                                step=1000,\n",
    "                                                marks = {\n",
    "                                                        0: '0 kg',\n",
    "                                                        1000: '1000 kg',\n",
    "                                                        2000: '2000 kg',\n",
    "                                                        3000: '3000 kg',\n",
    "                                                        4000: '4000 kg',\n",
    "                                                        5000: '5000 kg',\n",
    "                                                        6000: '6000 kg',  \n",
    "                                                        7000: '7000 kg',\n",
    "                                                        8000: '8000 kg',\n",
    "                                                        9000: '9000 kg',\n",
    "                                                        10000: '10000 kg'},\n",
    "                                                value=[min_payload, max_payload]\n",
    "                                               ),\n",
    "\n",
    "                                # TASK 4: Add a scatter chart to show the correlation between payload and launch success\n",
    "                                html.Div(dcc.Graph(id='success-payload-scatter-chart')),\n",
    "                                ])\n",
    "\n",
    "# Add a callback function for `site-dropdown` as input, `success-pie-chart` as output\n",
    "@app.callback(\n",
    "    Output(component_id='success-pie-chart', component_property='figure'),\n",
    "    Input(component_id='site_dropdown', component_property='value')\n",
    ")\n",
    "def get_pie_chart(site_dropdown):\n",
    "    if(site_dropdown == 'All Sites'):\n",
    "        df = spacex_df[spacex_df['class'] == 1]\n",
    "        fig = px.pie(df, names = 'Launch Site', hole=.3, title='Total Success Launches by all sites')\n",
    "    else:\n",
    "        df = spacex_df.loc[spacex_df['Launch Site'] == site_dropdown]\n",
    "        fig = px.pie(df, names = 'class',hole=.3,title = 'Total Success Launches for site '+site_dropdown)\n",
    "    return fig\n",
    "\n",
    "# Add a callback function for `site-dropdown` and `payload-slider` as inputs, `success-payload-scatter-chart` as output\n",
    "@app.callback(\n",
    "    Output(component_id='success-payload-scatter-chart', component_property='figure'),\n",
    "    [Input(component_id='site_dropdown', component_property='value'),\n",
    "    Input(component_id='payload_slider', component_property='value')]\n",
    ")\n",
    "\n",
    "def update_scattergraph(site_dropdown,payload_slider):\n",
    "    if site_dropdown == 'All Sites':\n",
    "        low, high = payload_slider\n",
    "        df  = spacex_df\n",
    "        mask = (df['Payload Mass (kg)'] > low) & (df['Payload Mass (kg)'] < high)\n",
    "        fig = px.scatter(\n",
    "            df[mask], x=\"Payload Mass (kg)\", y=\"class\", \n",
    "            color=\"Booster Version Category\",\n",
    "            size='Payload Mass (kg)',\n",
    "            hover_data=['Payload Mass (kg)'])\n",
    "    else:\n",
    "        low, high = payload_slider\n",
    "        df  = spacex_df.loc[spacex_df['Launch Site'] == site_dropdown]\n",
    "        mask = (df['Payload Mass (kg)'] > low) & (df['Payload Mass (kg)'] < high)\n",
    "        fig = px.scatter(\n",
    "            df[mask], x=\"Payload Mass (kg)\", y=\"class\", \n",
    "            color=\"Booster Version Category\",\n",
    "            size='Payload Mass (kg)',\n",
    "            hover_data=['Payload Mass (kg)'])\n",
    "    return fig\n",
    "\n",
    "# Run the app\n",
    "if __name__ == '__main__':\n",
    "    app.run_server()"
   ]
  },
  {
   "cell_type": "markdown",
   "id": "6288303c",
   "metadata": {},
   "source": [
    "# Insights"
   ]
  },
  {
   "cell_type": "markdown",
   "id": "f477b882",
   "metadata": {},
   "source": [
    "1. Which site has the largest successful launches?\n",
    "    - KSC LC-39A\n",
    "2. Which site has the highest launch success rate?\n",
    "    - KSC LC-39A with a 76.9% success rate.\n",
    "3. Which payload range(s) has the highest launch success rate?\n",
    "    - Between 2000 Kg and 4000 Kg\n",
    "4. Which payload range(s) has the lowest launch success rate?\n",
    "    - Between 6000 Kg and 7000 Kg\n",
    "5. Which F9 Booster version (v1.0, v1.1, FT, B4, B5, etc.) has the highest launch success rate?\n",
    "    - Version FT"
   ]
  },
  {
   "cell_type": "code",
   "execution_count": null,
   "id": "3548d76d",
   "metadata": {},
   "outputs": [],
   "source": []
  }
 ],
 "metadata": {
  "kernelspec": {
   "display_name": "Python 3 (ipykernel)",
   "language": "python",
   "name": "python3"
  },
  "language_info": {
   "codemirror_mode": {
    "name": "ipython",
    "version": 3
   },
   "file_extension": ".py",
   "mimetype": "text/x-python",
   "name": "python",
   "nbconvert_exporter": "python",
   "pygments_lexer": "ipython3",
   "version": "3.10.9"
  }
 },
 "nbformat": 4,
 "nbformat_minor": 5
}
